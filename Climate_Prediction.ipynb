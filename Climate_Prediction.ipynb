{
  "cells": [
    {
      "cell_type": "markdown",
      "metadata": {
        "id": "view-in-github",
        "colab_type": "text"
      },
      "source": [
        "<a href=\"https://colab.research.google.com/github/praisemwanza53/Open-Source-LLMs/blob/main/Climate_Prediction.ipynb\" target=\"_parent\"><img src=\"https://colab.research.google.com/assets/colab-badge.svg\" alt=\"Open In Colab\"/></a>"
      ]
    },
    {
      "cell_type": "markdown",
      "metadata": {
        "id": "GQBgEgDOjhNm"
      },
      "source": [
        "**1. Climate Data Analysis and Forecasting**\n",
        "Weather Prediction Models: Utilize historical weather data and real-time inputs to predict short-term and long-term weather patterns. This could include temperature, rainfall, humidity, or extreme events like hurricanes.\n",
        "Climate Trend Analysis: Analyze climate change data trends, such as global temperature increases, sea-level rise, and CO2 emissions over time.\n",
        "\n",
        "*A. Input Variables*\n",
        "These variables include both historical and real-time data that the AI model will use to predict future weather conditions.\n",
        "\n",
        "Temperature (°C): Historical and real-time temperature data.\n",
        "Humidity (%): Percentage of moisture in the air (historical and real-time).\n",
        "Wind Speed (km/h or m/s): Historical and real-time wind data.\n",
        "Precipitation (mm): Rainfall or snow levels.\n",
        "Pressure (hPa): Atmospheric pressure data, which can affect weather predictions.\n",
        "Cloud Cover (%): Percentage of cloud cover in the sky.\n",
        "Solar Radiation (W/m²): Solar energy received at the surface (optional, depending on the data source).\n",
        "Historical Weather Data: A dataset of past weather observations for a region, which will be fed into the model along with real-time data.\n",
        "\n",
        "*B. Output Variables*\n",
        "These are the predictions made by the AI model:\n",
        "\n",
        "Predicted Temperature (°C): Temperature forecast for future dates.\n",
        "Predicted Humidity (%): Humidity forecast for future dates.\n",
        "Predicted Wind Speed (km/h or m/s): Wind speed forecast for future dates.\n",
        "Predicted Precipitation (mm): Expected rainfall or snowfall.\n",
        "Extreme Weather Alerts: Predictions for hurricanes, storms, or other severe weather patterns.\n",
        "\n",
        "Data from Major Cities by Province:\n",
        "Lusaka (Lusaka Province)\n",
        "Ndola (Copperbelt Province)\n",
        "Livingstone (Southern Province)\n",
        "Chipata (Eastern Province)\n",
        "Solwezi (North-Western Province)\n",
        "Mansa (Luapula Province)\n",
        "Kasama (Northern Province)\n",
        "Mongu (Western Province)\n",
        "Kabwe (Central Province)\n",
        "Chinsali (Muchinga Province)\n",
        "\n",
        "**2. Energy and Resource Optimization**\n",
        "Renewable Energy Forecasting: AI models to predict the availability of solar or wind energy based on weather conditions. For example, forecasting solar panel efficiency based on cloud coverage predictions.\n",
        "Energy Demand Prediction: Models to predict energy demand patterns in different regions depending on seasonal climate changes, optimizing energy usage based on predictions.\n",
        "\n",
        "**3. Climate Change Impact Modeling**\n",
        "Ecosystem Impact Models: Models that predict how changing temperatures, weather patterns, and CO2 levels affect ecosystems, plant growth, and species migration.\n",
        "Agricultural Yield Predictions: AI models to predict how climate changes (like temperature and rainfall variation) will impact crop yields in different regions.\n",
        "\n",
        "** 4. Climate Education and Awareness**\n",
        "Chatbots and Virtual Assistants: Building conversational agents that educate users on climate change, suggest lifestyle changes, and provide real-time data on climate conditions and tips for sustainability.\n",
        "AI for Environmental Science Research: Automating climate-related research tasks like extracting data from scientific papers or predicting the outcomes of complex climate models."
      ]
    },
    {
      "cell_type": "markdown",
      "metadata": {
        "id": "MoI_TCQvn77f"
      },
      "source": [
        "**1. Climate Data Analysis and Forecasting**\n",
        "\n",
        "Cell 1: Install Required Libraries"
      ]
    },
    {
      "cell_type": "code",
      "execution_count": null,
      "metadata": {
        "colab": {
          "base_uri": "https://localhost:8080/"
        },
        "id": "D1BRfyVQjQyV",
        "outputId": "434449b6-8f73-4b83-d6c8-bdbfd1fbe411"
      },
      "outputs": [
        {
          "name": "stdout",
          "output_type": "stream",
          "text": [
            "Requirement already satisfied: meteostat in /usr/local/lib/python3.10/dist-packages (1.6.8)\n",
            "Requirement already satisfied: pandas>=1.1 in /usr/local/lib/python3.10/dist-packages (from meteostat) (2.2.2)\n",
            "Requirement already satisfied: pytz in /usr/local/lib/python3.10/dist-packages (from meteostat) (2024.2)\n",
            "Requirement already satisfied: numpy in /usr/local/lib/python3.10/dist-packages (from meteostat) (1.26.4)\n",
            "Requirement already satisfied: python-dateutil>=2.8.2 in /usr/local/lib/python3.10/dist-packages (from pandas>=1.1->meteostat) (2.8.2)\n",
            "Requirement already satisfied: tzdata>=2022.7 in /usr/local/lib/python3.10/dist-packages (from pandas>=1.1->meteostat) (2024.2)\n",
            "Requirement already satisfied: six>=1.5 in /usr/local/lib/python3.10/dist-packages (from python-dateutil>=2.8.2->pandas>=1.1->meteostat) (1.16.0)\n",
            "Requirement already satisfied: scikit-learn in /usr/local/lib/python3.10/dist-packages (1.5.2)\n",
            "Requirement already satisfied: numpy>=1.19.5 in /usr/local/lib/python3.10/dist-packages (from scikit-learn) (1.26.4)\n",
            "Requirement already satisfied: scipy>=1.6.0 in /usr/local/lib/python3.10/dist-packages (from scikit-learn) (1.13.1)\n",
            "Requirement already satisfied: joblib>=1.2.0 in /usr/local/lib/python3.10/dist-packages (from scikit-learn) (1.4.2)\n",
            "Requirement already satisfied: threadpoolctl>=3.1.0 in /usr/local/lib/python3.10/dist-packages (from scikit-learn) (3.5.0)\n"
          ]
        }
      ],
      "source": [
        "# Install required libraries\n",
        "!pip install meteostat\n",
        "!pip install scikit-learn\n"
      ]
    },
    {
      "cell_type": "markdown",
      "metadata": {
        "id": "IXIVrJ88oSJL"
      },
      "source": [
        "Cell 2: Import Libraries\n",
        "\n"
      ]
    },
    {
      "cell_type": "code",
      "execution_count": null,
      "metadata": {
        "id": "DsaxWpRBoVJK"
      },
      "outputs": [],
      "source": [
        "# Import necessary libraries\n",
        "import pandas as pd\n",
        "import requests\n",
        "from datetime import datetime, timedelta\n",
        "from sklearn.model_selection import train_test_split\n",
        "from sklearn.ensemble import RandomForestRegressor\n",
        "from sklearn.metrics import mean_squared_error\n"
      ]
    },
    {
      "cell_type": "markdown",
      "metadata": {
        "id": "VgYik5DhokzD"
      },
      "source": [
        "Cell 3: Define API Key and Major Cities in Zambia"
      ]
    },
    {
      "cell_type": "code",
      "execution_count": null,
      "metadata": {
        "id": "y-fyFDLkw-pE"
      },
      "outputs": [],
      "source": [
        "# Define your OpenWeather API key\n",
        "API_KEY = '5f1c8cc40140a0216562c119e047d5c5'  # Replace with your OpenWeather API key\n",
        "\n",
        "# Define the list of major cities in Zambia with their respective coordinates\n",
        "cities = {\n",
        "    \"Lusaka\": {\"lat\": -15.3875, \"lon\": 28.3228},\n",
        "    \"Ndola\": {\"lat\": -12.9587, \"lon\": 28.6366},\n",
        "    \"Livingstone\": {\"lat\": -17.8587, \"lon\": 25.8562},\n",
        "    \"Chipata\": {\"lat\": -13.6333, \"lon\": 32.6500},\n",
        "    \"Solwezi\": {\"lat\": -12.1833, \"lon\": 26.4000},\n",
        "    \"Mansa\": {\"lat\": -11.1997, \"lon\": 28.8940},\n",
        "    \"Kasama\": {\"lat\": -10.2129, \"lon\": 31.1790},\n",
        "    \"Mongu\": {\"lat\": -15.2484, \"lon\": 23.1274},\n",
        "    \"Kabwe\": {\"lat\": -14.4464, \"lon\": 28.4465},\n",
        "    \"Chinsali\": {\"lat\": -10.5500, \"lon\": 32.0667}\n",
        "}\n"
      ]
    },
    {
      "cell_type": "markdown",
      "metadata": {
        "id": "CGd1YCcv0zO9"
      },
      "source": [
        "Cell 4: Fetch Historical Weather Data from OpenWeather API"
      ]
    },
    {
      "cell_type": "code",
      "execution_count": null,
      "metadata": {
        "colab": {
          "background_save": true
        },
        "id": "A44B0FgQ00wF",
        "outputId": "003058fa-cb00-4293-c3cd-04209fa7f535"
      },
      "outputs": [
        {
          "name": "stdout",
          "output_type": "stream",
          "text": [
            "Empty DataFrame\n",
            "Columns: []\n",
            "Index: []\n"
          ]
        }
      ],
      "source": [
        "# Function to fetch historical weather data for the past 10 years\n",
        "def fetch_historical_weather(city, lat, lon):\n",
        "    url = f\"http://api.openweathermap.org/data/2.5/onecall/timemachine\"\n",
        "    historical_data = []\n",
        "\n",
        "     # Fetch data for each day in the past 3 years\n",
        "    for days_ago in range(1, 1096):  # 1095 days = 3 years\n",
        "        dt = int((datetime.now() - timedelta(days=days_ago)).timestamp())\n",
        "        response = requests.get(url, params={\n",
        "            'lat': lat,\n",
        "            'lon': lon,\n",
        "            'dt': dt,\n",
        "            'appid': API_KEY,\n",
        "            'units': 'metric'  # Use 'imperial' for Fahrenheit\n",
        "        })\n",
        "        data = response.json()\n",
        "\n",
        "        if 'current' in data:\n",
        "            historical_data.append({\n",
        "                'city': city,\n",
        "                'tavg': data['current']['temp'],\n",
        "                'tmin': data['current']['temp_min'],\n",
        "                'tmax': data['current']['temp_max'],\n",
        "                'prcp': data.get('current', {}).get('precipitation', 0),  # Adjust for API structure\n",
        "                'wspd': data['current']['wind_speed']\n",
        "            })\n",
        "\n",
        "    return historical_data\n",
        "\n",
        "# Collect historical data for all cities\n",
        "all_historical_data = []\n",
        "for city, coords in cities.items():\n",
        "    data = fetch_historical_weather(city, coords['lat'], coords['lon'])\n",
        "    all_historical_data.extend(data)\n",
        "\n",
        "# Create DataFrame from historical data\n",
        "all_data = pd.DataFrame(all_historical_data)\n",
        "\n",
        "# Display a sample of the combined historical data\n",
        "print(all_data.head())\n"
      ]
    },
    {
      "cell_type": "markdown",
      "metadata": {
        "id": "6cJkXyFK2BQl"
      },
      "source": [
        "Cell 5: Data Preprocessing"
      ]
    },
    {
      "cell_type": "code",
      "execution_count": null,
      "metadata": {
        "id": "YNFtiA6s2CN0"
      },
      "outputs": [],
      "source": [
        "# Clean the combined historical data\n",
        "all_data = all_data.dropna()  # Drop rows with missing values\n",
        "\n",
        "# Select relevant features\n",
        "X = all_data[['tmin', 'tmax', 'prcp', 'wspd']]  # Features: min/max temperature, precipitation, wind speed\n",
        "y = all_data['tavg']  # Target: average temperature\n",
        "\n",
        "# Display a preview of the preprocessed data\n",
        "print(X.head(), y.head())\n"
      ]
    },
    {
      "cell_type": "markdown",
      "metadata": {
        "id": "4hd50g7v2Ggc"
      },
      "source": [
        "Cell 6: Train-Test Split"
      ]
    },
    {
      "cell_type": "code",
      "execution_count": null,
      "metadata": {
        "id": "LoYTr4A92IDE"
      },
      "outputs": [],
      "source": [
        "# Split the data into training and testing sets\n",
        "X_train, X_test, y_train, y_test = train_test_split(X, y, test_size=0.2, random_state=42)\n",
        "\n",
        "# Display sizes of the training and test sets\n",
        "print(f\"Training set size: {len(X_train)}, Test set size: {len(X_test)}\")\n"
      ]
    },
    {
      "cell_type": "markdown",
      "metadata": {
        "id": "FdC89kGt2Pts"
      },
      "source": [
        "Cell 7: Train AI Model (Random Forest Regressor)"
      ]
    },
    {
      "cell_type": "code",
      "execution_count": null,
      "metadata": {
        "id": "a91AyokC2UZe"
      },
      "outputs": [],
      "source": [
        "# Initialize the Random Forest model\n",
        "model = RandomForestRegressor(n_estimators=100, random_state=42)\n",
        "\n",
        "# Train the model on the training data\n",
        "model.fit(X_train, y_train)\n",
        "\n",
        "# Confirm model training\n",
        "print(\"Model training completed!\")\n"
      ]
    },
    {
      "cell_type": "markdown",
      "metadata": {
        "id": "Re1zQ4Kz2XrV"
      },
      "source": [
        "Cell 8: Model Evaluation"
      ]
    },
    {
      "cell_type": "code",
      "execution_count": null,
      "metadata": {
        "id": "3qOB2a-C2XLM"
      },
      "outputs": [],
      "source": [
        "# Make predictions on the test set\n",
        "y_pred = model.predict(X_test)\n",
        "\n",
        "# Evaluate the model's performance using Mean Squared Error (MSE) and Root Mean Squared Error (RMSE)\n",
        "mse = mean_squared_error(y_test, y_pred)\n",
        "rmse = mean_squared_error(y_test, y_pred, squared=False)\n",
        "\n",
        "# Display evaluation results\n",
        "print(f\"Mean Squared Error (MSE): {mse}\")\n",
        "print(f\"Root Mean Squared Error (RMSE): {rmse}\")\n",
        "\n",
        "# Display actual vs predicted results\n",
        "results = pd.DataFrame({'Actual': y_test, 'Predicted': y_pred})\n",
        "print(results.head())\n"
      ]
    },
    {
      "cell_type": "markdown",
      "metadata": {
        "id": "kafbOz8E2cUU"
      },
      "source": [
        "Cell 9: Fetch Real-Time Data for Zambia"
      ]
    },
    {
      "cell_type": "code",
      "execution_count": null,
      "metadata": {
        "id": "kxP9djEg2dDV"
      },
      "outputs": [],
      "source": [
        "# Function to fetch current weather data for each city\n",
        "def fetch_current_weather(city, lat, lon):\n",
        "    url = f\"http://api.openweathermap.org/data/2.5/weather\"\n",
        "    response = requests.get(url, params={\n",
        "        'lat': lat,\n",
        "        'lon': lon,\n",
        "        'appid': API_KEY,\n",
        "        'units': 'metric'  # Use 'imperial' for Fahrenheit\n",
        "    })\n",
        "    return response.json()\n",
        "\n",
        "# Fetch real-time weather data for each city\n",
        "real_time_data = []\n",
        "for city, coords in cities.items():\n",
        "    data = fetch_current_weather(city, coords['lat'], coords['lon'])\n",
        "    real_time_data.append({\n",
        "        'city': city,\n",
        "        'temp': data['main']['temp'],\n",
        "        'wspd': data['wind']['speed'],\n",
        "        'prcp': data.get('rain', {}).get('1h', 0)  # Precipitation in the last hour, if available\n",
        "    })\n",
        "\n",
        "# Create DataFrame from real-time data\n",
        "real_time_df = pd.DataFrame(real_time_data)\n",
        "\n",
        "# Display real-time weather data\n",
        "print(real_time_df)\n"
      ]
    },
    {
      "cell_type": "markdown",
      "metadata": {
        "id": "_SXeeG0w2hBE"
      },
      "source": [
        "Cell 10: Make Prediction Based on Real-Time Data"
      ]
    },
    {
      "cell_type": "code",
      "execution_count": null,
      "metadata": {
        "id": "KneysydV2ijE"
      },
      "outputs": [],
      "source": [
        "# Prepare real-time data for prediction\n",
        "real_time_input = pd.DataFrame({\n",
        "    'tmin': real_time_df['temp'] - 2,  # Assuming min temp is 2°C lower than the observed temperature\n",
        "    'tmax': real_time_df['temp'] + 2,  # Assuming max temp is 2°C higher than the observed temperature\n",
        "    'prcp': real_time_df['prcp'],  # Real-time precipitation\n",
        "    'wspd': real_time_df['wspd']  # Real-time wind speed\n",
        "})\n",
        "\n",
        "# Make prediction using the trained model\n",
        "real_time_prediction = model.predict(real_time_input)\n",
        "\n",
        "# Display the predicted temperature based on real-time data\n",
        "for i, city in enumerate(real_time_df['city']):\n",
        "    print(f\"Predicted average temperature for {city}: {real_time_prediction[i]:.2f}°C\")\n"
      ]
    }
  ],
  "metadata": {
    "colab": {
      "provenance": [],
      "authorship_tag": "ABX9TyO3EtObzd+IETlrsHXKr/1e",
      "include_colab_link": true
    },
    "kernelspec": {
      "display_name": "Python 3",
      "name": "python3"
    },
    "language_info": {
      "name": "python"
    }
  },
  "nbformat": 4,
  "nbformat_minor": 0
}